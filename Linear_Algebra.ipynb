{
  "cells": [
    {
      "cell_type": "code",
      "execution_count": 1,
      "metadata": {
        "id": "NKjK71n6srJr"
      },
      "outputs": [],
      "source": [
        "import numpy as np"
      ]
    },
    {
      "cell_type": "code",
      "execution_count": 2,
      "metadata": {
        "id": "f4lzEg6tsxVz"
      },
      "outputs": [],
      "source": [
        "def det(matrix):\n",
        "  return np.linalg.det(matrix)"
      ]
    },
    {
      "cell_type": "code",
      "execution_count": 3,
      "metadata": {
        "id": "5FuZXbTNtBnp"
      },
      "outputs": [],
      "source": [
        "def inverse(matrix):\n",
        "  return np.linalg.inv(matrix)"
      ]
    },
    {
      "cell_type": "code",
      "execution_count": 31,
      "metadata": {
        "id": "Shqa92CafFK_"
      },
      "outputs": [],
      "source": [
        "def transpose(matrix):\n",
        "  return np.array(matrix).T"
      ]
    },
    {
      "cell_type": "code",
      "execution_count": 47,
      "metadata": {
        "id": "r0f9I2GGtP5N"
      },
      "outputs": [],
      "source": [
        "def cramer(matrix,result):\n",
        "  A1 = [matrix[i].copy() for i in range(len(matrix))]\n",
        "  A2 = [matrix[i].copy() for i in range(len(matrix))]\n",
        "  A3 = [matrix[i].copy() for i in range(len(matrix))]\n",
        "  A1[0][0] = result[0];\n",
        "  A1[1][0] = result[1];\n",
        "  A1[2][0] = result[2];\n",
        "  A2[0][1] = result[0];\n",
        "  A2[1][1] = result[1];\n",
        "  A2[2][1] = result[2];\n",
        "  A3[0][2] = result[0];\n",
        "  A3[1][2] = result[1];\n",
        "  A3[2][2] = result[2];\n",
        "  print(\"X: \", round(det(A1)/det(matrix),2))  \n",
        "  print(\"Y: \", round(det(A2)/det(matrix),2))  \n",
        "  print(\"Z: \", round(det(A3)/det(matrix),2)) \n",
        "  return np.array([round(det(A1)/det(matrix),2),round(det(A2)/det(matrix),2),round(det(A3)/det(matrix),2)]) "
      ]
    },
    {
      "cell_type": "code",
      "execution_count": 5,
      "metadata": {
        "id": "GiTIl3nmtTCh"
      },
      "outputs": [],
      "source": [
        "def norm(vector):\n",
        "  return np.linalg.norm(vector)"
      ]
    },
    {
      "cell_type": "code",
      "execution_count": 6,
      "metadata": {
        "id": "WT_YIah5uuf6"
      },
      "outputs": [],
      "source": [
        "def dot(v1,v2):\n",
        "  return np.dot(v1,v2)"
      ]
    },
    {
      "cell_type": "code",
      "execution_count": 7,
      "metadata": {
        "id": "XIz2fCeNuwVG"
      },
      "outputs": [],
      "source": [
        "def cross(v1,v2):\n",
        "  return np.cross(v1,v2)"
      ]
    },
    {
      "cell_type": "code",
      "execution_count": 8,
      "metadata": {
        "id": "xustqKVYuRIA"
      },
      "outputs": [],
      "source": [
        "def parallel(v1,v2):\n",
        "  return round(norm(cross(v1,v2)),0) == 0"
      ]
    },
    {
      "cell_type": "code",
      "execution_count": 9,
      "metadata": {
        "id": "NOh-rbIMu3XG"
      },
      "outputs": [],
      "source": [
        "def orthogonal(v1,v2):\n",
        "  return round(dot(v1,v2),0) == 0"
      ]
    },
    {
      "cell_type": "code",
      "execution_count": 10,
      "metadata": {
        "id": "Xm3EI2k_vCEk"
      },
      "outputs": [],
      "source": [
        "def getArea(v1,v2):\n",
        "  return norm(cross(v1,v2))"
      ]
    },
    {
      "cell_type": "code",
      "execution_count": 11,
      "metadata": {
        "id": "jmGawoaVvGGX"
      },
      "outputs": [],
      "source": [
        "def getVolume(v1,v2,v3):\n",
        "  return dot(v1,cross(v2,v3))"
      ]
    },
    {
      "cell_type": "code",
      "execution_count": 12,
      "metadata": {
        "id": "eqG0O09TuGhy"
      },
      "outputs": [],
      "source": [
        "def getDirectionalVectorOfLine(p1,p2):\n",
        "  return p2-p1"
      ]
    },
    {
      "cell_type": "code",
      "execution_count": 13,
      "metadata": {
        "id": "TG77zShrvaoF"
      },
      "outputs": [],
      "source": [
        "def getNormalVectorOfLine(l1):\n",
        "  if len(l1) == 2:\n",
        "    x = l1[0]\n",
        "    y = l1[1]\n",
        "    return np.array([y, -x])\n",
        "  elif len(l1) == 3:\n",
        "    x = l1[0]\n",
        "    y = l1[1]\n",
        "    z = l1[2]\n",
        "    return np.array([y, -x, 0])\n",
        "  return None"
      ]
    },
    {
      "cell_type": "code",
      "execution_count": 14,
      "metadata": {
        "id": "4A4vkkkuzCSh"
      },
      "outputs": [],
      "source": [
        "def getNormalVectorOfPlane(u,v):\n",
        "  return cross(u,v)"
      ]
    },
    {
      "cell_type": "code",
      "execution_count": 15,
      "metadata": {
        "id": "vbiW9tcYyHeK"
      },
      "outputs": [],
      "source": [
        "def getValueWithSign(value):\n",
        "  return str(\"+\" if value >= 0 else \"\") + str(value)"
      ]
    },
    {
      "cell_type": "code",
      "execution_count": 16,
      "metadata": {
        "id": "b4P6ooZMwBJu"
      },
      "outputs": [],
      "source": [
        "def getParametricEquation(p,v):\n",
        "  if len(p) == 2 and len(v) == 2:\n",
        "    x = p[0]\n",
        "    y = p[1]\n",
        "    v1 = v[0]\n",
        "    v2 = v[1]\n",
        "    print(\"x = \",x,getValueWithSign(v1),\"t\")\n",
        "    print(\"y = \",y,getValueWithSign(v2),\"t\")\n",
        "  elif len(p) == 3 and len(v) == 3:\n",
        "    x = p[0]\n",
        "    y = p[1]\n",
        "    z = p[2]\n",
        "    v1 = v[0]\n",
        "    v2 = v[1]\n",
        "    v3 = v[2]\n",
        "    print(\"x = \",x,getValueWithSign(v1),\"t\")\n",
        "    print(\"y = \",y,getValueWithSign(v2),\"t\")\n",
        "    print(\"z = \",z,getValueWithSign(v3),\"t\")"
      ]
    },
    {
      "cell_type": "code",
      "execution_count": 17,
      "metadata": {
        "id": "TrMapf1rw_ef"
      },
      "outputs": [],
      "source": [
        "def getNormalEquation(p,n):\n",
        "  if len(p) == 2 and len(n) == 2:\n",
        "    A = n[0]\n",
        "    B = n[1]\n",
        "    x = p[0]\n",
        "    y = p[1]\n",
        "    C = -(A*x + B*y)\n",
        "    print(str(A)+\"x\"+getValueWithSign(B)+\"y\"+getValueWithSign(C)+\" = 0\")\n",
        "    return np.array([A,B,C])\n",
        "  elif len(p) == 3 and len(n) == 3:\n",
        "    A = n[0]\n",
        "    B = n[1]\n",
        "    C = n[2]\n",
        "    x = p[0]\n",
        "    y = p[1]\n",
        "    z = p[2]\n",
        "    D = -(A*x + B*y + C*z)\n",
        "    print(str(A)+\"x\"+getValueWithSign(B)+\"y\"+getValueWithSign(C)+\"z\" + getValueWithSign(D)+\" = 0\")\n",
        "    return np.array([A,B,C,D])"
      ]
    },
    {
      "cell_type": "code",
      "execution_count": 18,
      "metadata": {
        "id": "BzerUBbqzU3B"
      },
      "outputs": [],
      "source": [
        "def distanceBetweenPointAndPoint(p1,p2):\n",
        "  if len(p1) == 2 and len(p2) == 2:\n",
        "    x1 = p1[0]\n",
        "    y1 = p1[1]\n",
        "    x2 = p2[0]\n",
        "    y2 = p2[1]\n",
        "    distance = np.sqrt(np.power(x1-x2,2) + np.power(y1-y2,2))\n",
        "    return distance\n",
        "  elif len(p1) == 3 and len(p2) == 3:\n",
        "    x1 = p1[0]\n",
        "    y1 = p1[1]\n",
        "    z1 = p1[2]\n",
        "    x2 = p2[0]\n",
        "    y2 = p2[1]\n",
        "    z2 = p2[2]\n",
        "    distance = np.sqrt(np.power(x1-x2,2) + np.power(y1-y2,2) + np.power(z1-z2,2))\n",
        "    return distance"
      ]
    },
    {
      "cell_type": "code",
      "execution_count": 19,
      "metadata": {
        "id": "7bUQi-0-z6mJ"
      },
      "outputs": [],
      "source": [
        "def distanceBetweenPointAndLine(p1,p2,v2):\n",
        "  return norm(cross(getDirectionalVectorOfLine(p1,p2),v2))/norm(v2)"
      ]
    },
    {
      "cell_type": "code",
      "execution_count": 20,
      "metadata": {
        "id": "7oCtcr0p0wvw"
      },
      "outputs": [],
      "source": [
        "def distanceBetweenPointAndPlane(p1,n2):\n",
        "  return abs(dot(p1,np.array([n2[0],n2[1],n2[2]])) + n2[3])/np.sqrt(np.power(n2[0],2)+np.power(n2[1],2)+np.power(n2[2],2))"
      ]
    },
    {
      "cell_type": "code",
      "execution_count": 21,
      "metadata": {
        "id": "1xNFwQhq0aLQ"
      },
      "outputs": [],
      "source": [
        "def distanceBetweenLineAndPlane(p1,v1,p2,n2):\n",
        "  if orthogonal(v1,n2): # Two plane are parallel\n",
        "    n2 = getNormalEquation(p2,n2)\n",
        "    return distanceBetweenPointAndPlane(p1,n2)\n",
        "  else:\n",
        "    return 0"
      ]
    },
    {
      "cell_type": "code",
      "execution_count": 22,
      "metadata": {
        "id": "0ZwJrbpD2yPS"
      },
      "outputs": [],
      "source": [
        "def distanceBetweenLineAndLine(p1,v1,p2,v2):\n",
        "  if parallel(v1,v2):\n",
        "    return distanceBetweenPointAndLine(p1,p2,v2)\n",
        "  else:\n",
        "    return dot(getDirectionalVectorOfLine(p1,p2),cross(v1,v2))/norm(cross(v1,v2))"
      ]
    },
    {
      "cell_type": "code",
      "execution_count": 76,
      "metadata": {
        "id": "9Qm21Cl75U8j"
      },
      "outputs": [],
      "source": [
        "def getEigenValue(matrix):\n",
        "  w,v = np.linalg.eig(matrix)\n",
        "  v = v.T\n",
        "  for i in range(len(w)):\n",
        "    print(\"Eigen Value:\",round(w[i],2))\n",
        "    print(\"Eigen Vector:\",formatEigenVector(v[i]))\n",
        "  return w"
      ]
    },
    {
      "cell_type": "code",
      "execution_count": 73,
      "metadata": {
        "id": "PuqgpvNu5_qq"
      },
      "outputs": [],
      "source": [
        "def formatEigenVector(v):\n",
        "  if len(v) == 2:\n",
        "    v1 = v[0]\n",
        "    v2 = v[1]\n",
        "    if v[0] != 0 and v[1] != 0:\n",
        "      if abs(v1) > abs(v2):\n",
        "        scale = abs(round(v1/v2))\n",
        "        v1 = round((v1 * scale))\n",
        "        v2 = round((v2 * scale))\n",
        "        return np.array([v1,v2])\n",
        "      elif v1 == v2:\n",
        "        return np.array([1,1])\n",
        "      else:\n",
        "        scale = abs(round(v2/v1))\n",
        "        v1 = round((v1 * scale))\n",
        "        v2 = round((v2 * scale))\n",
        "        return np.array([v1,v2])\n",
        "    return np.array([v1,v2])\n",
        "  elif len(v) == 3:\n",
        "    v1 = v[0]\n",
        "    v2 = v[1]\n",
        "    v3 = v[2]\n",
        "    if v1 != 0 and v2 != 0 and v3 != 0:\n",
        "      if v1 == v2 and v2 == v3:\n",
        "        return np.array([1,1,1])\n",
        "      scale = abs(max([v1,v2,v3]) / min([v1,v2,v3]))\n",
        "      v1 = round((v1*scale))\n",
        "      v2 = round((v2*scale))\n",
        "      v3 = round((v3*scale))\n",
        "    return np.array([v1,v2,v3])"
      ]
    },
    {
      "cell_type": "code",
      "execution_count": 25,
      "metadata": {
        "id": "_AYaqtjv62rx"
      },
      "outputs": [],
      "source": [
        "def checkEigen(matrix,vector):\n",
        "  nv = matrix @ vector\n",
        "  w = getEigenValue(matrix)\n",
        "  eigenValueMatrix = nv/vector\n",
        "  bool_arr = eigenValueMatrix == eigenValueMatrix[0]\n",
        "  if bool_arr.all(): # All element are equal\n",
        "    val = eigenValueMatrix[0]\n",
        "    for i in w:\n",
        "      if i%val == 0 or val%i == 0:\n",
        "        return val\n",
        "  return False"
      ]
    }
  ],
  "metadata": {
    "colab": {
      "collapsed_sections": [],
      "name": "Linear Algebra.ipynb",
      "provenance": []
    },
    "kernelspec": {
      "display_name": "Python 3",
      "name": "python3"
    },
    "language_info": {
      "name": "python"
    }
  },
  "nbformat": 4,
  "nbformat_minor": 0
}
