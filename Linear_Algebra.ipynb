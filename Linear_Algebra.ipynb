{
  "nbformat": 4,
  "nbformat_minor": 0,
  "metadata": {
    "colab": {
      "name": "Linear Algebra.ipynb",
      "provenance": [],
      "collapsed_sections": []
    },
    "kernelspec": {
      "name": "python3",
      "display_name": "Python 3"
    },
    "language_info": {
      "name": "python"
    }
  },
  "cells": [
    {
      "cell_type": "code",
      "metadata": {
        "id": "NKjK71n6srJr"
      },
      "source": [
        "import numpy as np"
      ],
      "execution_count": 1,
      "outputs": []
    },
    {
      "cell_type": "code",
      "metadata": {
        "id": "f4lzEg6tsxVz"
      },
      "source": [
        "def det(matrix):\n",
        "  return np.linalg.det(matrix)"
      ],
      "execution_count": 5,
      "outputs": []
    },
    {
      "cell_type": "code",
      "metadata": {
        "id": "5FuZXbTNtBnp"
      },
      "source": [
        "def inverse(matrix):\n",
        "  return np.linalg.inv(matrix)"
      ],
      "execution_count": 9,
      "outputs": []
    },
    {
      "cell_type": "code",
      "metadata": {
        "id": "r0f9I2GGtP5N"
      },
      "source": [
        "def cramer(matrix,result):\n",
        "  A1 = matrix.copy()\n",
        "  A1[0] = result;\n",
        "  A2 = matrix.copy()\n",
        "  A2[1] = result;\n",
        "  A3 = matrix.copy()\n",
        "  A3[2] = result;\n",
        "  print(\"X: \", round(det(A1)/det(matrix),2))  \n",
        "  print(\"Y: \", round(det(A2)/det(matrix),2))  \n",
        "  print(\"Z: \", round(det(A3)/det(matrix),2)) \n",
        "  return np.array([round(det(A1)/det(matrix),2),round(det(A2)/det(matrix),2),round(det(A3)/det(matrix),2)]) "
      ],
      "execution_count": 16,
      "outputs": []
    },
    {
      "cell_type": "code",
      "metadata": {
        "id": "GiTIl3nmtTCh"
      },
      "source": [
        "def norm(vector):\n",
        "  return np.linalg.norm(vector)"
      ],
      "execution_count": 18,
      "outputs": []
    },
    {
      "cell_type": "code",
      "metadata": {
        "id": "WT_YIah5uuf6"
      },
      "source": [
        "def dot(v1,v2):\n",
        "  return np.dot(v1,v2)"
      ],
      "execution_count": 30,
      "outputs": []
    },
    {
      "cell_type": "code",
      "metadata": {
        "id": "XIz2fCeNuwVG"
      },
      "source": [
        "def cross(v1,v2):\n",
        "  return np.cross(v1,v2)"
      ],
      "execution_count": 34,
      "outputs": []
    },
    {
      "cell_type": "code",
      "metadata": {
        "id": "xustqKVYuRIA"
      },
      "source": [
        "def parallel(v1,v2):\n",
        "  return round(norm(cross(v1,v2)),0) == 0"
      ],
      "execution_count": 35,
      "outputs": []
    },
    {
      "cell_type": "code",
      "metadata": {
        "id": "NOh-rbIMu3XG"
      },
      "source": [
        "def orthogonal(v1,v2):\n",
        "  return round(dot(v1,v2),0) == 0"
      ],
      "execution_count": 37,
      "outputs": []
    },
    {
      "cell_type": "code",
      "metadata": {
        "id": "Xm3EI2k_vCEk"
      },
      "source": [
        "def getArea(v1,v2):\n",
        "  return norm(cross(v1,v2))"
      ],
      "execution_count": 41,
      "outputs": []
    },
    {
      "cell_type": "code",
      "metadata": {
        "id": "jmGawoaVvGGX"
      },
      "source": [
        "def getVolume(v1,v2,v3):\n",
        "  return dot(v1,cross(v2,v3))"
      ],
      "execution_count": 42,
      "outputs": []
    },
    {
      "cell_type": "code",
      "metadata": {
        "id": "eqG0O09TuGhy"
      },
      "source": [
        "def getDirectionalVectorOfLine(p1,p2):\n",
        "  return p2-p1"
      ],
      "execution_count": 50,
      "outputs": []
    },
    {
      "cell_type": "code",
      "metadata": {
        "id": "TG77zShrvaoF"
      },
      "source": [
        "def getNormalVectorOfLine(l1):\n",
        "  if len(l1) == 2:\n",
        "    x = l1[0]\n",
        "    y = l1[1]\n",
        "    return np.array([y, -x])\n",
        "  elif len(l1) == 3:\n",
        "    x = l1[0]\n",
        "    y = l1[1]\n",
        "    z = l1[2]\n",
        "    return np.array([y, -x, 0])\n",
        "  return None"
      ],
      "execution_count": 91,
      "outputs": []
    },
    {
      "cell_type": "code",
      "metadata": {
        "id": "4A4vkkkuzCSh"
      },
      "source": [
        "def getNormalVectorOfPlane(u,v):\n",
        "  return cross(u,v)"
      ],
      "execution_count": 92,
      "outputs": []
    },
    {
      "cell_type": "code",
      "metadata": {
        "id": "vbiW9tcYyHeK"
      },
      "source": [
        "def getValueWithSign(value):\n",
        "  return str(\"+\" if value >= 0 else \"\") + str(value)"
      ],
      "execution_count": 85,
      "outputs": []
    },
    {
      "cell_type": "code",
      "metadata": {
        "id": "b4P6ooZMwBJu"
      },
      "source": [
        "def getParametricEquation(p,v):\n",
        "  if len(p) == 2 and len(v) == 2:\n",
        "    x = p[0]\n",
        "    y = p[1]\n",
        "    v1 = v[0]\n",
        "    v2 = v[1]\n",
        "    print(\"x = \",x,getValueWithSign(v1),\"t\")\n",
        "    print(\"y = \",y,getValueWithSign(v2),\"t\")\n",
        "  elif len(p) == 3 and len(v) == 3:\n",
        "    x = p[0]\n",
        "    y = p[1]\n",
        "    z = p[2]\n",
        "    v1 = v[0]\n",
        "    v2 = v[1]\n",
        "    v3 = v[2]\n",
        "    print(\"x = \",x,getValueWithSign(v1),\"t\")\n",
        "    print(\"y = \",y,getValueWithSign(v2),\"t\")\n",
        "    print(\"z = \",z,getValueWithSign(v3),\"t\")"
      ],
      "execution_count": 88,
      "outputs": []
    },
    {
      "cell_type": "code",
      "metadata": {
        "id": "TrMapf1rw_ef"
      },
      "source": [
        "def getNormalEquation(p,n):\n",
        "  if len(p) == 2 and len(n) == 2:\n",
        "    A = n[0]\n",
        "    B = n[1]\n",
        "    x = p[0]\n",
        "    y = p[1]\n",
        "    C = -(A*x + B*y)\n",
        "    print(str(A)+\"x\"+getValueWithSign(B)+\"y\"+getValueWithSign(C)+\" = 0\")\n",
        "    return np.array([A,B,C])\n",
        "  elif len(p) == 3 and len(n) == 3:\n",
        "    A = n[0]\n",
        "    B = n[1]\n",
        "    C = n[2]\n",
        "    x = p[0]\n",
        "    y = p[1]\n",
        "    z = p[2]\n",
        "    D = -(A*x + B*y + C*z)\n",
        "    print(str(A)+\"x\"+getValueWithSign(B)+\"y\"+getValueWithSign(C)+\"z\" + getValueWithSign(D)+\" = 0\")\n",
        "    return np.array([A,B,C,D])"
      ],
      "execution_count": 99,
      "outputs": []
    },
    {
      "cell_type": "code",
      "metadata": {
        "id": "BzerUBbqzU3B"
      },
      "source": [
        "def distanceBetweenPointAndPoint(p1,p2):\n",
        "  if len(p1) == 2 and len(p2) == 2:\n",
        "    x1 = p1[0]\n",
        "    y1 = p1[1]\n",
        "    x2 = p2[0]\n",
        "    y2 = p2[1]\n",
        "    distance = np.sqrt(np.power(x1-x2,2) + np.power(y1-y2,2))\n",
        "    return distance\n",
        "  elif len(p1) == 3 and len(p2) == 3:\n",
        "    x1 = p1[0]\n",
        "    y1 = p1[1]\n",
        "    z1 = p1[2]\n",
        "    x2 = p2[0]\n",
        "    y2 = p2[1]\n",
        "    z2 = p2[2]\n",
        "    distance = np.sqrt(np.power(x1-x2,2) + np.power(y1-y2,2) + np.power(z1-z2,2))\n",
        "    return distance"
      ],
      "execution_count": 93,
      "outputs": []
    },
    {
      "cell_type": "code",
      "metadata": {
        "id": "7bUQi-0-z6mJ"
      },
      "source": [
        "def distanceBetweenPointAndLine(p1,p2,v2):\n",
        "  return norm(cross(getDirectionalVectorOfLine(p1,p2),v2))/norm(v2)"
      ],
      "execution_count": 96,
      "outputs": []
    },
    {
      "cell_type": "code",
      "metadata": {
        "id": "7oCtcr0p0wvw"
      },
      "source": [
        "def distanceBetweenPointAndPlane(p1,n2):\n",
        "  return abs(dot(p1,np.array([n2[0],n2[1],n2[2]])) + n2[3])/np.sqrt(np.power(n2[0],2)+np.power(n2[1],2)+np.power(n2[2],2))"
      ],
      "execution_count": 103,
      "outputs": []
    },
    {
      "cell_type": "code",
      "metadata": {
        "id": "1xNFwQhq0aLQ"
      },
      "source": [
        "def distanceBetweenLineAndPlane(p1,v1,p2,n2):\n",
        "  if orthogonal(v1,n2): # Two plane are parallel\n",
        "    n2 = getNormalEquation(p2,n2)\n",
        "    return distanceBetweenPointAndPlane(p1,n2)\n",
        "  else:\n",
        "    return 0"
      ],
      "execution_count": 112,
      "outputs": []
    },
    {
      "cell_type": "code",
      "metadata": {
        "id": "0ZwJrbpD2yPS"
      },
      "source": [
        "def distanceBetweenLineAndLine(p1,v1,p2,v2):\n",
        "  if parallel(v1,v2):\n",
        "    return distanceBetweenPointAndLine(p1,p2,v2)\n",
        "  else:\n",
        "    return dot(getDirectionalVectorOfLine(p1,p2),cross(v1,v2))/norm(cross(v1,v2))"
      ],
      "execution_count": 131,
      "outputs": []
    },
    {
      "cell_type": "code",
      "metadata": {
        "id": "9Qm21Cl75U8j"
      },
      "source": [
        "def getEigenValue(matrix):\n",
        "  w,v = np.linalg.eig(matrix)\n",
        "  v = v.T\n",
        "  for i in range(len(w)):\n",
        "    print(\"Eigen Value:\",w[i])\n",
        "    print(\"Eigen Vector:\",formatEigenVector(v[i]))\n",
        "  return w"
      ],
      "execution_count": 179,
      "outputs": []
    },
    {
      "cell_type": "code",
      "metadata": {
        "id": "PuqgpvNu5_qq"
      },
      "source": [
        "def formatEigenVector(v):\n",
        "  if len(v) == 2:\n",
        "    v1 = v[0]\n",
        "    v2 = v[1]\n",
        "    if abs(v1) > abs(v2):\n",
        "      scale = abs(round(v1/v2))\n",
        "      v1 = round((v1 * scale))\n",
        "      v2 = round((v2 * scale))\n",
        "      return np.array([v1,v2])\n",
        "    elif v1 == v2:\n",
        "      return np.array([1,1])\n",
        "    else:\n",
        "      scale = abs(round(v2/v1))\n",
        "      v1 = round((v1 * scale))\n",
        "      v2 = round((v2 * scale))\n",
        "      return np.array([v1,v2])"
      ],
      "execution_count": 147,
      "outputs": []
    },
    {
      "cell_type": "code",
      "metadata": {
        "id": "_AYaqtjv62rx"
      },
      "source": [
        "def checkEigen(matrix,vector):\n",
        "  nv = matrix @ vector\n",
        "  w = getEigenValue(matrix)\n",
        "  eigenValueMatrix = nv/vector\n",
        "  bool_arr = eigenValueMatrix == eigenValueMatrix[0]\n",
        "  if bool_arr.all(): # All element are equal\n",
        "    val = eigenValueMatrix[0]\n",
        "    for i in w:\n",
        "      if i%val == 0 or val%i == 0:\n",
        "        return val\n",
        "  return False"
      ],
      "execution_count": 177,
      "outputs": []
    },
    {
      "cell_type": "code",
      "metadata": {
        "colab": {
          "base_uri": "https://localhost:8080/"
        },
        "id": "cDhK5OcE5bEe",
        "outputId": "9f9153d4-9ca1-46c2-ec5f-8ee80075c9e7"
      },
      "source": [
        "getEigenValue(np.array([[4,3],[3,-4]]))"
      ],
      "execution_count": 151,
      "outputs": [
        {
          "output_type": "stream",
          "name": "stdout",
          "text": [
            "Eigen Value: 5.0\n",
            "Eigen Vector: [0.9486833  0.31622777]\n",
            "Eigen Vector: [3 1]\n",
            "Eigen Value: -5.0\n",
            "Eigen Vector: [-0.31622777  0.9486833 ]\n",
            "Eigen Vector: [-1  3]\n"
          ]
        }
      ]
    },
    {
      "cell_type": "code",
      "metadata": {
        "colab": {
          "base_uri": "https://localhost:8080/"
        },
        "id": "Znqatjyk7d7f",
        "outputId": "d99d90d3-c36b-4ba4-e9be-17266ed3f8cd"
      },
      "source": [
        "checkEigen(np.array([[4,3],[3,-4]]),np.array([6,2]))"
      ],
      "execution_count": 180,
      "outputs": [
        {
          "output_type": "stream",
          "name": "stdout",
          "text": [
            "Eigen Value: 5.0\n",
            "Eigen Vector: [3 1]\n",
            "Eigen Value: -5.0\n",
            "Eigen Vector: [-1  3]\n"
          ]
        },
        {
          "output_type": "execute_result",
          "data": {
            "text/plain": [
              "5.0"
            ]
          },
          "metadata": {},
          "execution_count": 180
        }
      ]
    }
  ]
}